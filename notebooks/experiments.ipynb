{
 "cells": [
  {
   "cell_type": "markdown",
   "id": "intelligent-yemen",
   "metadata": {},
   "source": [
    "# Recipe book"
   ]
  },
  {
   "cell_type": "markdown",
   "id": "governmental-acceptance",
   "metadata": {},
   "source": [
    "## Content"
   ]
  },
  {
   "cell_type": "markdown",
   "id": "fatal-interstate",
   "metadata": {},
   "source": [
    "Voici le recipe book!"
   ]
  },
  {
   "cell_type": "code",
   "execution_count": 2,
   "id": "double-multimedia",
   "metadata": {},
   "outputs": [],
   "source": [
    "# Import usual modules\n",
    "import pandas as pd\n",
    "import numpy as np\n",
    "import seaborn as sns\n",
    "import matplotlib.pyplot as plt"
   ]
  },
  {
   "cell_type": "code",
   "execution_count": null,
   "id": "active-comparison",
   "metadata": {},
   "outputs": [],
   "source": [
    "# Import recipebook data\n",
    "from recipebook.data import Data\n",
    "from recipebook.recipe import Recipe\n",
    "from recipebook.ingredient import Ingredient"
   ]
  },
  {
   "cell_type": "markdown",
   "id": "spare-incident",
   "metadata": {},
   "source": [
    "## Dataset global"
   ]
  },
  {
   "cell_type": "markdown",
   "id": "welsh-knitting",
   "metadata": {},
   "source": [
    "Reconstituer le dataset global sous forme d'un dictionnaire où les clés sont les noms des tables au singulier (ingredient, recipe, recipe_item) et les valeurs sont les dataframes associées à chacune de ces tables. "
   ]
  },
  {
   "cell_type": "code",
   "execution_count": null,
   "id": "sought-brisbane",
   "metadata": {},
   "outputs": [],
   "source": [
    "df = Data().get_data()\n",
    "df.head()"
   ]
  },
  {
   "cell_type": "markdown",
   "id": "legendary-wisdom",
   "metadata": {},
   "source": [
    "## Les ingredients"
   ]
  },
  {
   "cell_type": "code",
   "execution_count": null,
   "id": "western-declaration",
   "metadata": {},
   "outputs": [],
   "source": [
    "ingredients = df['ingredient']\n",
    "ingredients.head()"
   ]
  },
  {
   "cell_type": "markdown",
   "id": "caroline-italic",
   "metadata": {},
   "source": [
    "### Ingredient popularities"
   ]
  },
  {
   "cell_type": "markdown",
   "id": "established-airline",
   "metadata": {},
   "source": [
    "ingredient_popularities est un df avec toutes les séries du dataframe de ingredients auquel vient s'ajouter deux colonnes:\n",
    "\n",
    "- une colonne specifiant le nombre de fois d'un ingredient est apparu dans une recette\n",
    "- une colonne specifiant 1 si le nombre est > 1 et sinon 0"
   ]
  },
  {
   "cell_type": "code",
   "execution_count": 4,
   "id": "challenging-thirty",
   "metadata": {},
   "outputs": [
    {
     "ename": "NameError",
     "evalue": "name 'Ingredient' is not defined",
     "output_type": "error",
     "traceback": [
      "\u001b[0;31m---------------------------------------------------------------------------\u001b[0m",
      "\u001b[0;31mNameError\u001b[0m                                 Traceback (most recent call last)",
      "\u001b[0;32m<ipython-input-4-6813744e9cbd>\u001b[0m in \u001b[0;36m<module>\u001b[0;34m\u001b[0m\n\u001b[0;32m----> 1\u001b[0;31m \u001b[0mingredient_popularities\u001b[0m \u001b[0;34m=\u001b[0m \u001b[0mIngredient\u001b[0m\u001b[0;34m(\u001b[0m\u001b[0;34m)\u001b[0m\u001b[0;34m.\u001b[0m\u001b[0mget_with_popularities\u001b[0m\u001b[0;34m\u001b[0m\u001b[0;34m\u001b[0m\u001b[0m\n\u001b[0m",
      "\u001b[0;31mNameError\u001b[0m: name 'Ingredient' is not defined"
     ]
    }
   ],
   "source": [
    "ingredient_popularities = Ingredient().get_with_popularities\n",
    "ingredient_popularities.head()"
   ]
  },
  {
   "cell_type": "markdown",
   "id": "completed-protein",
   "metadata": {},
   "source": [
    "## Les recipes"
   ]
  },
  {
   "cell_type": "code",
   "execution_count": null,
   "id": "happy-fellowship",
   "metadata": {},
   "outputs": [],
   "source": [
    "recipes = df['recipe']\n",
    "recipes.head()"
   ]
  },
  {
   "cell_type": "markdown",
   "id": "korean-resident",
   "metadata": {},
   "source": [
    "### Scored recipes"
   ]
  },
  {
   "cell_type": "markdown",
   "id": "welsh-sending",
   "metadata": {},
   "source": [
    "scored_recipes est un dataframe contenant deus séries:\n",
    "\n",
    "- le nom de la recipe\n",
    "- le score total associé à une recette \n",
    "\n",
    "Le score d'une recipe et la moyenne des scores des ingedients qui la compose"
   ]
  },
  {
   "cell_type": "code",
   "execution_count": null,
   "id": "selective-weekly",
   "metadata": {},
   "outputs": [],
   "source": [
    "scored_recipes = Recipe().get_scored_recipes\n",
    "scored_recipes.head()"
   ]
  }
 ],
 "metadata": {
  "kernelspec": {
   "display_name": "Python 3",
   "language": "python",
   "name": "python3"
  },
  "language_info": {
   "codemirror_mode": {
    "name": "ipython",
    "version": 3
   },
   "file_extension": ".py",
   "mimetype": "text/x-python",
   "name": "python",
   "nbconvert_exporter": "python",
   "pygments_lexer": "ipython3",
   "version": "3.8.6"
  }
 },
 "nbformat": 4,
 "nbformat_minor": 5
}
